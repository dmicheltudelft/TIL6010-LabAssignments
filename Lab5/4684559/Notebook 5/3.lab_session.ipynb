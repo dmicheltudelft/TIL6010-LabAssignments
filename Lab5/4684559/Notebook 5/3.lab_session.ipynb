{
 "cells": [
  {
   "cell_type": "markdown",
   "id": "ba7a5dd8",
   "metadata": {},
   "source": [
    "Import relevant packages here."
   ]
  },
  {
   "cell_type": "code",
   "execution_count": 87,
   "id": "6a8838bb",
   "metadata": {},
   "outputs": [],
   "source": [
    "import matplotlib.pyplot as plt\n",
    "import numpy as np\n",
    "import pandas as pd\n",
    "import math"
   ]
  },
  {
   "cell_type": "markdown",
   "id": "1725519c",
   "metadata": {},
   "source": [
    "Load the data and verify it is loaded correctly.\n",
    "<ul>\n",
    "    <li>Print it (head, tail, or specific rows, choose a sensible number of rows).</li>\n",
    "    <li>Compare it to the source file.</li>\n",
    "<ul>"
   ]
  },
  {
   "cell_type": "code",
   "execution_count": 88,
   "id": "aa4d5e37",
   "metadata": {},
   "outputs": [
    {
     "name": "stdout",
     "output_type": "stream",
     "text": [
      "         dv        s         a\n",
      "0 -0.743240  53.5427  1.242570\n",
      "1 -0.557230  53.6120  1.777920\n",
      "2 -0.454769  53.6541  0.544107\n",
      "3 -0.525396  53.7030 -0.294755\n",
      "4 -0.601285  53.7592 -0.290961\n",
      "            dv        s         a\n",
      "73903  5.19874  116.139 -0.795081\n",
      "73904  5.10428  115.627 -0.314263\n",
      "73905  5.13764  115.118  0.232283\n",
      "73906  5.15348  114.599  0.262078\n",
      "73907  5.25868  113.112 -0.612440\n"
     ]
    }
   ],
   "source": [
    "file_path = 'cf_data.csv'\n",
    "\n",
    "data = pd.read_csv(file_path, encoding='ISO-8859-1')\n",
    "\n",
    "print(data.head())\n",
    "print(data.tail())\n"
   ]
  },
  {
   "cell_type": "markdown",
   "id": "0f6d5753",
   "metadata": {},
   "source": [
    "In the ensuing, you will use <code>numpy</code>.\n",
    "\n",
    "Let's create a grid for the values to plot. But first create <b>two arrays named <code>dv</code> and <code>s</code></b> using <code>numpy.linspace</code> that hold the grid values at the relevant indices in their respective dimension of the grid.\n",
    "\n",
    "Create a <b>grid named <code>a</code></b> with zeros using <code>numpy.zeros</code> in to which calculated acceleration values can be stored.<br>\n",
    "<br>\n",
    "Let the grid span:<br>\n",
    "<ul>\n",
    "    <li>Speed difference <code>dv</code> [m/s]\n",
    "        <ul>\n",
    "            <li>From -10 till 10</li>\n",
    "            <li>With 41 evenly spaced values</li>\n",
    "        </ul>\n",
    "    </li>\n",
    "    <li>Headway <code>s</code> [m]\n",
    "        <ul>\n",
    "            <li>From 0 till 200</li>\n",
    "            <li>With 21 evenly spaced values</li>\n",
    "        </ul>\n",
    "    </li>\n",
    "</ul>"
   ]
  },
  {
   "cell_type": "code",
   "execution_count": 99,
   "id": "2d52276f",
   "metadata": {},
   "outputs": [],
   "source": [
    "dv = np.linspace(-10, 10, num=41)\n",
    "s = np.linspace(0, 200, num=21)\n",
    "a = np.zeros((41, 21))\n"
   ]
  },
  {
   "cell_type": "markdown",
   "id": "fedab6cf",
   "metadata": {},
   "source": [
    "Create from the imported data 3 separate <code>numpy</code> arrays for each column <code>dv</code>, <code>s</code> and <code>a</code>. (We do this for speed reasons later.)\n",
    "<ul>\n",
    "    <li>Make sure to name them differently from the arrays that belong to the grid as above.</li>\n",
    "    <li>You can access the data of each column in a <code>DataFrame</code> using <code>data.xxx</code> where <code>xxx</code> is the column name (not as a string).</li>\n",
    "    <li>Use the method <code>to_numpy()</code> to convert a column to a <code>numpy</code> array.</li>\n",
    "</ul>"
   ]
  },
  {
   "cell_type": "code",
   "execution_count": 100,
   "id": "1058fc26",
   "metadata": {},
   "outputs": [],
   "source": [
    "DV = data.dv.to_numpy()\n",
    "S = data.s.to_numpy()\n",
    "A = data.a.to_numpy()"
   ]
  },
  {
   "cell_type": "markdown",
   "id": "bbf1585a",
   "metadata": {},
   "source": [
    "Create an algorithm that calculates all the acceleration values and stores them in the grid. The algorithm is described visually in the last part of the lecture. At each grid point, it calculates a weighted mean of all measurements. The weights are given by an exponential function, based on the 'distance' between the grid point, and the measurement values of <code>dv</code> and <code>s</code>. To get you started, how many <code>for</code>-loops do you need?<br>\n",
    "<br>\n",
    "For this you will need <code>math</code>.<br>\n",
    "Use an <i>upsilon</i> of 1.5m/s and a <i>sigma</i> of 30m.<br>\n",
    "<br>\n",
    "<b>Warning:</b> This calculation may take some time. So:\n",
    "<ul>\n",
    "    <li>Print a line for each iteration of the outer-most <code>for</code>-loop that shows you the progress.</li>\n",
    "    <li>Test you code by running it only on the first 50 measurements of the data.</li>\n",
    "</ul>"
   ]
  },
  {
   "cell_type": "code",
   "execution_count": null,
   "id": "676dd33f",
   "metadata": {},
   "outputs": [],
   "source": []
  },
  {
   "cell_type": "code",
   "execution_count": 101,
   "id": "da3a54f4",
   "metadata": {},
   "outputs": [
    {
     "name": "stdout",
     "output_type": "stream",
     "text": [
      "Iteration number 0\n",
      "Iteration number 1\n",
      "Iteration number 2\n",
      "Iteration number 3\n",
      "Iteration number 4\n",
      "Iteration number 5\n",
      "Iteration number 6\n",
      "Iteration number 7\n",
      "Iteration number 8\n",
      "Iteration number 9\n",
      "Iteration number 10\n",
      "Iteration number 11\n",
      "Iteration number 12\n",
      "Iteration number 13\n",
      "Iteration number 14\n",
      "Iteration number 15\n",
      "Iteration number 16\n",
      "Iteration number 17\n",
      "Iteration number 18\n",
      "Iteration number 19\n",
      "Iteration number 20\n",
      "Iteration number 21\n",
      "Iteration number 22\n",
      "Iteration number 23\n",
      "Iteration number 24\n",
      "Iteration number 25\n",
      "Iteration number 26\n",
      "Iteration number 27\n",
      "Iteration number 28\n",
      "Iteration number 29\n",
      "Iteration number 30\n",
      "Iteration number 31\n",
      "Iteration number 32\n",
      "Iteration number 33\n",
      "Iteration number 34\n",
      "Iteration number 35\n",
      "Iteration number 36\n",
      "Iteration number 37\n",
      "Iteration number 38\n",
      "Iteration number 39\n",
      "Iteration number 40\n"
     ]
    }
   ],
   "source": [
    "# Define constants\n",
    "upsilon = 1.5  # m/s\n",
    "sigma = 30.0   # m\n",
    "\n",
    "# Loop over the grid points\n",
    "\n",
    "for i in range(41):  \n",
    "    print(f'Iteration number {i}')\n",
    "    for j in range(21):  \n",
    "        \n",
    "\n",
    "        # Define the lists for omega * A and omega\n",
    "        omega_A = np.zeros(len(DV))\n",
    "        omega = np.zeros(len(DV))\n",
    "        \n",
    "        # Calculate the omega * A and omega values\n",
    "        for k in range(len(DV)):\n",
    "            omega_A[k] = (np.exp(- abs(dv[i] - DV[k]) / upsilon - abs(s[j] - S[k]) / sigma)) * A[k]\n",
    "            omega[k] = np.exp(- abs(dv[i] - DV[k]) / upsilon - abs(s[j] - S[k]) / sigma)\n",
    "            \n",
    "        # Calculate the weighted mean and put it into the matrix a    \n",
    "        a[i, j] = np.sum(omega_A) / np.sum(omega)\n",
    "           "
   ]
  },
  {
   "cell_type": "markdown",
   "id": "52cbac3a",
   "metadata": {},
   "source": [
    "The following code will plot the data for you. Does it make sense when considering:\n",
    "<ul>\n",
    "    <li>Negative (slower than leader) and positive (faster than leader) speed differences?</li>\n",
    "    <li>Small and large headways?</li>\n",
    "</ul>"
   ]
  },
  {
   "cell_type": "code",
   "execution_count": 102,
   "id": "168949b8",
   "metadata": {},
   "outputs": [
    {
     "data": {
      "image/png": "[encoded data removed]",
      "text/plain": [
       "<Figure size 1000x700 with 2 Axes>"
      ]
     },
     "metadata": {},
     "output_type": "display_data"
    }
   ],
   "source": [
    "X, Y = np.meshgrid(s, dv)\n",
    "axs = plt.axes()\n",
    "p = axs.pcolor(X, Y, a, shading='nearest')\n",
    "axs.set_title('Acceleration [m/s/s]')\n",
    "axs.set_xlabel('Speed difference [m/s]')\n",
    "axs.set_ylabel('Headway [m]')\n",
    "axs.figure.colorbar(p);\n",
    "axs.figure.set_size_inches(10, 7)\n"
   ]
  },
  {
   "cell_type": "code",
   "execution_count": null,
   "id": "f8c6b5cc",
   "metadata": {},
   "outputs": [],
   "source": []
  }
 ],
 "metadata": {
  "kernelspec": {
   "display_name": "Python 3 (ipykernel)",
   "language": "python",
   "name": "python3"
  },
  "language_info": {
   "codemirror_mode": {
    "name": "ipython",
    "version": 3
   },
   "file_extension": ".py",
   "mimetype": "text/x-python",
   "name": "python",
   "nbconvert_exporter": "python",
   "pygments_lexer": "ipython3",
   "version": "3.11.4"
  }
 },
 "nbformat": 4,
 "nbformat_minor": 5
}
