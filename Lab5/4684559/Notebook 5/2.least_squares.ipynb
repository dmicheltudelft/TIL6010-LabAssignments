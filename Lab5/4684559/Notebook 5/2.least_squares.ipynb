{
 "cells": [
  {
   "cell_type": "markdown",
   "id": "c7d285ba",
   "metadata": {},
   "source": [
    "<h1>Let's generate some data</h1>"
   ]
  },
  {
   "cell_type": "code",
   "execution_count": null,
   "id": "f5531ba3",
   "metadata": {},
   "outputs": [],
   "source": [
    "import random\n",
    "import matplotlib.pyplot as plt\n",
    "\n",
    "x_range = [0, 100]\n",
    "a = 5\n",
    "b = .2\n",
    "n = 100\n",
    "\n",
    "x = [0] * n\n",
    "y = [0] * n\n",
    "\n",
    "for i in range(0, n):\n",
    "    x[i] = x_range[0]+(x_range[1]-x_range[0])*random.random() # random points in x range\n",
    "    y[i] = (a+b*x[i])*(.9+.2*random.random()) # y values with random factor in range [.9 1.1]\n",
    "    \n",
    "s = plt.scatter(x, y)"
   ]
  },
  {
   "cell_type": "markdown",
   "id": "b916b31a",
   "metadata": {},
   "source": [
    "<h1>Calculating the least squares solution</h1>"
   ]
  },
  {
   "cell_type": "code",
   "execution_count": null,
   "id": "72953931",
   "metadata": {},
   "outputs": [],
   "source": [
    "# initialize sums\n",
    "sum_x = 0\n",
    "sum_y = 0\n",
    "sum_x_y = 0\n",
    "sum_x_squared = 0\n",
    "\n",
    "# calculate sums\n",
    "for i in range(0, len(x)):\n",
    "    sum_x += x[i]\n",
    "    sum_y += y[i]\n",
    "    sum_x_y += x[i]*y[i]\n",
    "    sum_x_squared += x[i]*x[i]\n",
    "\n",
    "# calculate equations\n",
    "b_estimated = (len(x)*sum_x_y-sum_x*sum_y) / (len(x)*sum_x_squared-sum_x*sum_x)\n",
    "a_estimated = (sum_y-b_estimated*sum_x) / len(x)\n",
    "\n",
    "print(\"a=%f, b=%f\" % (a_estimated, b_estimated))"
   ]
  },
  {
   "cell_type": "markdown",
   "id": "308c6ff9",
   "metadata": {},
   "source": [
    "<h1>Visual confirmation</h1>"
   ]
  },
  {
   "cell_type": "code",
   "execution_count": null,
   "id": "9f471985",
   "metadata": {},
   "outputs": [],
   "source": [
    "y_plot = [a_estimated+b_estimated*x_range[0], a_estimated+b_estimated*x_range[1]]\n",
    "s = plt.scatter(x, y)\n",
    "p = plt.plot(x_range, y_plot, color='red')"
   ]
  }
 ],
 "metadata": {
  "kernelspec": {
   "display_name": "Python 3 (ipykernel)",
   "language": "python",
   "name": "python3"
  },
  "language_info": {
   "codemirror_mode": {
    "name": "ipython",
    "version": 3
   },
   "file_extension": ".py",
   "mimetype": "text/x-python",
   "name": "python",
   "nbconvert_exporter": "python",
   "pygments_lexer": "ipython3",
   "version": "3.11.4"
  }
 },
 "nbformat": 4,
 "nbformat_minor": 5
}
