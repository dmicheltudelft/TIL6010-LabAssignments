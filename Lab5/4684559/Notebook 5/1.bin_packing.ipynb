{
 "cells": [
  {
   "cell_type": "markdown",
   "id": "b1bf504a",
   "metadata": {},
   "source": [
    "<h1>Box</h1>"
   ]
  },
  {
   "cell_type": "code",
   "execution_count": null,
   "id": "b212d7bc",
   "metadata": {},
   "outputs": [],
   "source": [
    "# Class defining a box with load capacity\n",
    "class Box:\n",
    "    \n",
    "    def __init__(self, capacity):\n",
    "        self.capacity = capacity\n",
    "        self._items = []\n",
    "        self._load = 0\n",
    "        \n",
    "    def can_fit(self, item):\n",
    "        return self.space() >= item\n",
    "    \n",
    "    def space(self):\n",
    "        return self.capacity - self._load\n",
    "    \n",
    "    def add_item(self, item):\n",
    "        if not self.can_fit(item):\n",
    "            raise Exception('Item of size %i does not fit.' % item)\n",
    "        self._items.append(item)\n",
    "        self._load += item\n",
    "    \n",
    "    def get_load(self):\n",
    "        return self._load\n",
    "    \n",
    "    def __repr__(self):\n",
    "        return 'Box %s (%i)' % (self._items, self.space())\n",
    "    \n",
    "    def __str__(self):\n",
    "        return 'Box %s (%i)' % (self._items, self.space())"
   ]
  },
  {
   "cell_type": "markdown",
   "id": "ffb7053e",
   "metadata": {},
   "source": [
    "<b>Question</b><br>Why <code>_items</code> and <code>_load</code>?"
   ]
  },
  {
   "cell_type": "code",
   "execution_count": null,
   "id": "b853d56f",
   "metadata": {},
   "outputs": [],
   "source": [
    "box = Box(12)\n",
    "box.add_item(11)\n",
    "if box.can_fit(3):\n",
    "    print('it fits')\n",
    "else:\n",
    "    print('it does not fit')"
   ]
  },
  {
   "cell_type": "markdown",
   "id": "cebeef6b",
   "metadata": {},
   "source": [
    "<h1>Heuristics</h1>"
   ]
  },
  {
   "cell_type": "code",
   "execution_count": null,
   "id": "3c5f3899",
   "metadata": {},
   "outputs": [],
   "source": [
    "def next_fit(items, box_size):\n",
    "    \n",
    "    # initialize boxes\n",
    "    current_box = Box(box_size)\n",
    "    boxes = [current_box]\n",
    "    \n",
    "    # loop items\n",
    "    for item in items:\n",
    "        \n",
    "        # add item in current box if it fits\n",
    "        if current_box.can_fit(item):\n",
    "            current_box.add_item(item) # 1\n",
    "            \n",
    "        # add new empty box if needed\n",
    "        else:\n",
    "            current_box = Box(box_size)\n",
    "            boxes.append(current_box)\n",
    "            current_box.add_item(item) # 2\n",
    "    \n",
    "    # return list of boxes\n",
    "    return boxes"
   ]
  },
  {
   "cell_type": "markdown",
   "id": "b3b07da9",
   "metadata": {},
   "source": [
    "<b>Challenge</b><br>There is duplicate code in the above function. How to streamline this?<br><i>Hint: what would you do first, to guarantee you can place the item in the current box?</i>"
   ]
  },
  {
   "cell_type": "markdown",
   "id": "f63be6c1",
   "metadata": {},
   "source": [
    "Helper function to print boxes in a vertical list."
   ]
  },
  {
   "cell_type": "code",
   "execution_count": null,
   "id": "71bd95f2",
   "metadata": {},
   "outputs": [],
   "source": [
    "# Print solution of boxes\n",
    "def print_boxes(boxes):\n",
    "    space = 0\n",
    "    for box in boxes:\n",
    "        print(box)\n",
    "        space += box.space()\n",
    "    print('Total space: %i' % space)"
   ]
  },
  {
   "cell_type": "code",
   "execution_count": null,
   "id": "2a38ff53",
   "metadata": {},
   "outputs": [],
   "source": [
    "items = [6, 6, 5, 5, 5, 4, 4, 4, 4, 2, 2, 2, 2, 3, 3, 7, 7, 5, 5, 8, 8, 4, 4, 5]\n",
    "\n",
    "boxes = next_fit(items, 9)\n",
    "print_boxes(boxes)"
   ]
  },
  {
   "cell_type": "code",
   "execution_count": null,
   "id": "9ab2a638",
   "metadata": {},
   "outputs": [],
   "source": [
    "def next_k_fit(items, box_size, k):\n",
    "    \n",
    "    # initialize boxes\n",
    "    boxes = []\n",
    "    k_boxes = []\n",
    "    \n",
    "    # loop items\n",
    "    for item in items:\n",
    "        \n",
    "        # place in first box where item fits\n",
    "        item_packed = False\n",
    "        for box in k_boxes:\n",
    "            if box.can_fit(item):\n",
    "                box.add_item(item)\n",
    "                item_packed = True\n",
    "                break\n",
    "                \n",
    "        # add new empty box if needed\n",
    "        if not item_packed:\n",
    "            box = Box(box_size)\n",
    "            boxes.append(box)\n",
    "            k_boxes.append(box)\n",
    "            box.add_item(item)\n",
    "            # pop first box from list if we have more than k boxes\n",
    "            if len(k_boxes) > k:\n",
    "                k_boxes.pop(0)\n",
    "    \n",
    "    # return list of boxes\n",
    "    return boxes"
   ]
  },
  {
   "cell_type": "markdown",
   "id": "f4266c03",
   "metadata": {},
   "source": [
    "<b>Challenge</b><br>Can we get rid of <code>k_boxes</code>? How?"
   ]
  },
  {
   "cell_type": "code",
   "execution_count": null,
   "id": "87de8701",
   "metadata": {},
   "outputs": [],
   "source": [
    "boxes = next_k_fit(items, 9, 3)\n",
    "print_boxes(boxes)"
   ]
  },
  {
   "cell_type": "code",
   "execution_count": null,
   "id": "775b7952",
   "metadata": {},
   "outputs": [],
   "source": [
    "def first_fit(items, box_size):\n",
    "    \n",
    "    # initialize boxes\n",
    "    boxes = []\n",
    "    \n",
    "    # loop items\n",
    "    for item in items:\n",
    "        \n",
    "        # place in first box where item fits\n",
    "        for box in boxes:\n",
    "            if box.can_fit(item):\n",
    "                box.add_item(item)\n",
    "                break # do not check further boxes, the item was packed\n",
    "        \n",
    "        # add new empty box if needed\n",
    "        else:\n",
    "            box = Box(box_size)\n",
    "            box.add_item(item)\n",
    "            boxes.append(box)\n",
    "            \n",
    "    # return list of boxes\n",
    "    return boxes"
   ]
  },
  {
   "cell_type": "code",
   "execution_count": null,
   "id": "38ef931f",
   "metadata": {},
   "outputs": [],
   "source": [
    "boxes = first_fit(items, 9)\n",
    "print_boxes(boxes)"
   ]
  },
  {
   "cell_type": "code",
   "execution_count": null,
   "id": "68604716",
   "metadata": {},
   "outputs": [],
   "source": [
    "def best_fit(items, box_size):\n",
    "    \n",
    "    # initialize boxes\n",
    "    boxes = []\n",
    "    \n",
    "    # loop items\n",
    "    for item in items:\n",
    "        \n",
    "        # find the best box\n",
    "        best_box = None\n",
    "        for box in boxes:\n",
    "            if box.can_fit(item) and (not best_box or box.space() < best_box.space()):\n",
    "                best_box = box\n",
    "        \n",
    "        # add new empty box if needed\n",
    "        if best_box == None:\n",
    "            box = Box(box_size)\n",
    "            box.add_item(item)\n",
    "            boxes.append(box)\n",
    "            \n",
    "        # or add item to the best box\n",
    "        else:\n",
    "            best_box.add_item(item)\n",
    "            \n",
    "    # return list of boxes\n",
    "    return boxes"
   ]
  },
  {
   "cell_type": "markdown",
   "id": "8cd32f41",
   "metadata": {},
   "source": [
    "<b>Challenge</b><br>There is a bug in the above function. Where is it?<br><i>Hint: run through the logic when placing the second item.</i>"
   ]
  },
  {
   "cell_type": "code",
   "execution_count": null,
   "id": "aacc94f6",
   "metadata": {},
   "outputs": [],
   "source": [
    "boxes = best_fit(items, 9)\n",
    "print_boxes(boxes)"
   ]
  },
  {
   "cell_type": "markdown",
   "id": "299d8d0e",
   "metadata": {},
   "source": [
    "<b>Challenge</b><br>How to implement <i>off-line</i> packing algorithms? [slide]"
   ]
  },
  {
   "cell_type": "code",
   "execution_count": null,
   "id": "0436b87d",
   "metadata": {},
   "outputs": [],
   "source": [
    "boxes = first_fit(items, 9)\n",
    "print_boxes(boxes)"
   ]
  },
  {
   "cell_type": "markdown",
   "id": "b7dc6f8b",
   "metadata": {},
   "source": [
    "<h1>Enum</h1>"
   ]
  },
  {
   "cell_type": "code",
   "execution_count": null,
   "id": "961c157d",
   "metadata": {},
   "outputs": [],
   "source": [
    "from enum import Enum\n",
    "\n",
    "# Enum of bin packing heuristics\n",
    "class Heuristic(Enum):\n",
    "    \n",
    "    NEXT_FIT = 1\n",
    "    NEXT_K_FIT = 2\n",
    "    FIRST_FIT = 3\n",
    "    BEST_FIT = 4\n",
    "    \n",
    "    # Bin pack items\n",
    "    def pack(self, items, box_size, k=1):\n",
    "        if self == Heuristic.NEXT_FIT:\n",
    "            return next_fit(items, box_size)\n",
    "        if self == Heuristic.NEXT_K_FIT:\n",
    "            return next_k_fit(items, box_size, k)\n",
    "        if self == Heuristic.FIRST_FIT:\n",
    "            return first_fit(items, box_size)\n",
    "        if self == Heuristic.BEST_FIT:\n",
    "            return best_fit(items, box_size)"
   ]
  },
  {
   "cell_type": "markdown",
   "id": "a6c7acfb",
   "metadata": {},
   "source": [
    "<b>Challenge</b><br>Can we reduce the overall code that we need?<br><i>Hint: what heuristic(s) are special cases of other heuristic(s)?</i>"
   ]
  },
  {
   "cell_type": "code",
   "execution_count": null,
   "id": "4aecfc79",
   "metadata": {},
   "outputs": [],
   "source": [
    "# values can be looped\n",
    "for heuristic in Heuristic:\n",
    "    print(heuristic.name)"
   ]
  },
  {
   "cell_type": "code",
   "execution_count": null,
   "id": "88ed1d76",
   "metadata": {},
   "outputs": [],
   "source": [
    "# function to print result of any heuristic it is given\n",
    "def solve_and_print(heuristic, items, box_size, k=1):\n",
    "    boxes = heuristic.pack(items, box_size, k)\n",
    "    print_boxes(boxes)\n",
    "    \n",
    "solve_and_print(Heuristic.NEXT_FIT, items, 9)"
   ]
  }
 ],
 "metadata": {
  "kernelspec": {
   "display_name": "Python 3 (ipykernel)",
   "language": "python",
   "name": "python3"
  },
  "language_info": {
   "codemirror_mode": {
    "name": "ipython",
    "version": 3
   },
   "file_extension": ".py",
   "mimetype": "text/x-python",
   "name": "python",
   "nbconvert_exporter": "python",
   "pygments_lexer": "ipython3",
   "version": "3.11.4"
  }
 },
 "nbformat": 4,
 "nbformat_minor": 5
}
